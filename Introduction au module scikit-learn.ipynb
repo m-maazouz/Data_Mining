{
 "cells": [
  {
   "cell_type": "markdown",
   "metadata": {},
   "source": [
    "# TP1 : Introduction au module scikit-learn"
   ]
  },
  {
   "cell_type": "markdown",
   "metadata": {},
   "source": [
    "## Importation des libraires"
   ]
  },
  {
   "cell_type": "code",
   "execution_count": 47,
   "metadata": {},
   "outputs": [],
   "source": [
    "from sklearn import datasets\n",
    "import numpy as np\n",
    "from  matplotlib import pyplot as plt\n",
    "from sklearn.datasets import make_blobs\n",
    "from sklearn.datasets import fetch_openml"
   ]
  },
  {
   "cell_type": "markdown",
   "metadata": {},
   "source": [
    "## Manipulation des données"
   ]
  },
  {
   "cell_type": "code",
   "execution_count": 2,
   "metadata": {},
   "outputs": [],
   "source": [
    "iris = datasets.load_iris()\n",
    "features = iris.data\n",
    "targets = iris.target"
   ]
  },
  {
   "cell_type": "markdown",
   "metadata": {},
   "source": [
    "## l'affichage des données"
   ]
  },
  {
   "cell_type": "code",
   "execution_count": 3,
   "metadata": {},
   "outputs": [
    {
     "name": "stdout",
     "output_type": "stream",
     "text": [
      "{'data': array([[5.1, 3.5, 1.4, 0.2],\n",
      "       [4.9, 3. , 1.4, 0.2],\n",
      "       [4.7, 3.2, 1.3, 0.2],\n",
      "       [4.6, 3.1, 1.5, 0.2],\n",
      "       [5. , 3.6, 1.4, 0.2],\n",
      "       [5.4, 3.9, 1.7, 0.4],\n",
      "       [4.6, 3.4, 1.4, 0.3],\n",
      "       [5. , 3.4, 1.5, 0.2],\n",
      "       [4.4, 2.9, 1.4, 0.2],\n",
      "       [4.9, 3.1, 1.5, 0.1],\n",
      "       [5.4, 3.7, 1.5, 0.2],\n",
      "       [4.8, 3.4, 1.6, 0.2],\n",
      "       [4.8, 3. , 1.4, 0.1],\n",
      "       [4.3, 3. , 1.1, 0.1],\n",
      "       [5.8, 4. , 1.2, 0.2],\n",
      "       [5.7, 4.4, 1.5, 0.4],\n",
      "       [5.4, 3.9, 1.3, 0.4],\n",
      "       [5.1, 3.5, 1.4, 0.3],\n",
      "       [5.7, 3.8, 1.7, 0.3],\n",
      "       [5.1, 3.8, 1.5, 0.3],\n",
      "       [5.4, 3.4, 1.7, 0.2],\n",
      "       [5.1, 3.7, 1.5, 0.4],\n",
      "       [4.6, 3.6, 1. , 0.2],\n",
      "       [5.1, 3.3, 1.7, 0.5],\n",
      "       [4.8, 3.4, 1.9, 0.2],\n",
      "       [5. , 3. , 1.6, 0.2],\n",
      "       [5. , 3.4, 1.6, 0.4],\n",
      "       [5.2, 3.5, 1.5, 0.2],\n",
      "       [5.2, 3.4, 1.4, 0.2],\n",
      "       [4.7, 3.2, 1.6, 0.2],\n",
      "       [4.8, 3.1, 1.6, 0.2],\n",
      "       [5.4, 3.4, 1.5, 0.4],\n",
      "       [5.2, 4.1, 1.5, 0.1],\n",
      "       [5.5, 4.2, 1.4, 0.2],\n",
      "       [4.9, 3.1, 1.5, 0.2],\n",
      "       [5. , 3.2, 1.2, 0.2],\n",
      "       [5.5, 3.5, 1.3, 0.2],\n",
      "       [4.9, 3.6, 1.4, 0.1],\n",
      "       [4.4, 3. , 1.3, 0.2],\n",
      "       [5.1, 3.4, 1.5, 0.2],\n",
      "       [5. , 3.5, 1.3, 0.3],\n",
      "       [4.5, 2.3, 1.3, 0.3],\n",
      "       [4.4, 3.2, 1.3, 0.2],\n",
      "       [5. , 3.5, 1.6, 0.6],\n",
      "       [5.1, 3.8, 1.9, 0.4],\n",
      "       [4.8, 3. , 1.4, 0.3],\n",
      "       [5.1, 3.8, 1.6, 0.2],\n",
      "       [4.6, 3.2, 1.4, 0.2],\n",
      "       [5.3, 3.7, 1.5, 0.2],\n",
      "       [5. , 3.3, 1.4, 0.2],\n",
      "       [7. , 3.2, 4.7, 1.4],\n",
      "       [6.4, 3.2, 4.5, 1.5],\n",
      "       [6.9, 3.1, 4.9, 1.5],\n",
      "       [5.5, 2.3, 4. , 1.3],\n",
      "       [6.5, 2.8, 4.6, 1.5],\n",
      "       [5.7, 2.8, 4.5, 1.3],\n",
      "       [6.3, 3.3, 4.7, 1.6],\n",
      "       [4.9, 2.4, 3.3, 1. ],\n",
      "       [6.6, 2.9, 4.6, 1.3],\n",
      "       [5.2, 2.7, 3.9, 1.4],\n",
      "       [5. , 2. , 3.5, 1. ],\n",
      "       [5.9, 3. , 4.2, 1.5],\n",
      "       [6. , 2.2, 4. , 1. ],\n",
      "       [6.1, 2.9, 4.7, 1.4],\n",
      "       [5.6, 2.9, 3.6, 1.3],\n",
      "       [6.7, 3.1, 4.4, 1.4],\n",
      "       [5.6, 3. , 4.5, 1.5],\n",
      "       [5.8, 2.7, 4.1, 1. ],\n",
      "       [6.2, 2.2, 4.5, 1.5],\n",
      "       [5.6, 2.5, 3.9, 1.1],\n",
      "       [5.9, 3.2, 4.8, 1.8],\n",
      "       [6.1, 2.8, 4. , 1.3],\n",
      "       [6.3, 2.5, 4.9, 1.5],\n",
      "       [6.1, 2.8, 4.7, 1.2],\n",
      "       [6.4, 2.9, 4.3, 1.3],\n",
      "       [6.6, 3. , 4.4, 1.4],\n",
      "       [6.8, 2.8, 4.8, 1.4],\n",
      "       [6.7, 3. , 5. , 1.7],\n",
      "       [6. , 2.9, 4.5, 1.5],\n",
      "       [5.7, 2.6, 3.5, 1. ],\n",
      "       [5.5, 2.4, 3.8, 1.1],\n",
      "       [5.5, 2.4, 3.7, 1. ],\n",
      "       [5.8, 2.7, 3.9, 1.2],\n",
      "       [6. , 2.7, 5.1, 1.6],\n",
      "       [5.4, 3. , 4.5, 1.5],\n",
      "       [6. , 3.4, 4.5, 1.6],\n",
      "       [6.7, 3.1, 4.7, 1.5],\n",
      "       [6.3, 2.3, 4.4, 1.3],\n",
      "       [5.6, 3. , 4.1, 1.3],\n",
      "       [5.5, 2.5, 4. , 1.3],\n",
      "       [5.5, 2.6, 4.4, 1.2],\n",
      "       [6.1, 3. , 4.6, 1.4],\n",
      "       [5.8, 2.6, 4. , 1.2],\n",
      "       [5. , 2.3, 3.3, 1. ],\n",
      "       [5.6, 2.7, 4.2, 1.3],\n",
      "       [5.7, 3. , 4.2, 1.2],\n",
      "       [5.7, 2.9, 4.2, 1.3],\n",
      "       [6.2, 2.9, 4.3, 1.3],\n",
      "       [5.1, 2.5, 3. , 1.1],\n",
      "       [5.7, 2.8, 4.1, 1.3],\n",
      "       [6.3, 3.3, 6. , 2.5],\n",
      "       [5.8, 2.7, 5.1, 1.9],\n",
      "       [7.1, 3. , 5.9, 2.1],\n",
      "       [6.3, 2.9, 5.6, 1.8],\n",
      "       [6.5, 3. , 5.8, 2.2],\n",
      "       [7.6, 3. , 6.6, 2.1],\n",
      "       [4.9, 2.5, 4.5, 1.7],\n",
      "       [7.3, 2.9, 6.3, 1.8],\n",
      "       [6.7, 2.5, 5.8, 1.8],\n",
      "       [7.2, 3.6, 6.1, 2.5],\n",
      "       [6.5, 3.2, 5.1, 2. ],\n",
      "       [6.4, 2.7, 5.3, 1.9],\n",
      "       [6.8, 3. , 5.5, 2.1],\n",
      "       [5.7, 2.5, 5. , 2. ],\n",
      "       [5.8, 2.8, 5.1, 2.4],\n",
      "       [6.4, 3.2, 5.3, 2.3],\n",
      "       [6.5, 3. , 5.5, 1.8],\n",
      "       [7.7, 3.8, 6.7, 2.2],\n",
      "       [7.7, 2.6, 6.9, 2.3],\n",
      "       [6. , 2.2, 5. , 1.5],\n",
      "       [6.9, 3.2, 5.7, 2.3],\n",
      "       [5.6, 2.8, 4.9, 2. ],\n",
      "       [7.7, 2.8, 6.7, 2. ],\n",
      "       [6.3, 2.7, 4.9, 1.8],\n",
      "       [6.7, 3.3, 5.7, 2.1],\n",
      "       [7.2, 3.2, 6. , 1.8],\n",
      "       [6.2, 2.8, 4.8, 1.8],\n",
      "       [6.1, 3. , 4.9, 1.8],\n",
      "       [6.4, 2.8, 5.6, 2.1],\n",
      "       [7.2, 3. , 5.8, 1.6],\n",
      "       [7.4, 2.8, 6.1, 1.9],\n",
      "       [7.9, 3.8, 6.4, 2. ],\n",
      "       [6.4, 2.8, 5.6, 2.2],\n",
      "       [6.3, 2.8, 5.1, 1.5],\n",
      "       [6.1, 2.6, 5.6, 1.4],\n",
      "       [7.7, 3. , 6.1, 2.3],\n",
      "       [6.3, 3.4, 5.6, 2.4],\n",
      "       [6.4, 3.1, 5.5, 1.8],\n",
      "       [6. , 3. , 4.8, 1.8],\n",
      "       [6.9, 3.1, 5.4, 2.1],\n",
      "       [6.7, 3.1, 5.6, 2.4],\n",
      "       [6.9, 3.1, 5.1, 2.3],\n",
      "       [5.8, 2.7, 5.1, 1.9],\n",
      "       [6.8, 3.2, 5.9, 2.3],\n",
      "       [6.7, 3.3, 5.7, 2.5],\n",
      "       [6.7, 3. , 5.2, 2.3],\n",
      "       [6.3, 2.5, 5. , 1.9],\n",
      "       [6.5, 3. , 5.2, 2. ],\n",
      "       [6.2, 3.4, 5.4, 2.3],\n",
      "       [5.9, 3. , 5.1, 1.8]]), 'target': array([0, 0, 0, 0, 0, 0, 0, 0, 0, 0, 0, 0, 0, 0, 0, 0, 0, 0, 0, 0, 0, 0,\n",
      "       0, 0, 0, 0, 0, 0, 0, 0, 0, 0, 0, 0, 0, 0, 0, 0, 0, 0, 0, 0, 0, 0,\n",
      "       0, 0, 0, 0, 0, 0, 1, 1, 1, 1, 1, 1, 1, 1, 1, 1, 1, 1, 1, 1, 1, 1,\n",
      "       1, 1, 1, 1, 1, 1, 1, 1, 1, 1, 1, 1, 1, 1, 1, 1, 1, 1, 1, 1, 1, 1,\n",
      "       1, 1, 1, 1, 1, 1, 1, 1, 1, 1, 1, 1, 2, 2, 2, 2, 2, 2, 2, 2, 2, 2,\n",
      "       2, 2, 2, 2, 2, 2, 2, 2, 2, 2, 2, 2, 2, 2, 2, 2, 2, 2, 2, 2, 2, 2,\n",
      "       2, 2, 2, 2, 2, 2, 2, 2, 2, 2, 2, 2, 2, 2, 2, 2, 2, 2]), 'target_names': array(['setosa', 'versicolor', 'virginica'], dtype='<U10'), 'DESCR': '.. _iris_dataset:\\n\\nIris plants dataset\\n--------------------\\n\\n**Data Set Characteristics:**\\n\\n    :Number of Instances: 150 (50 in each of three classes)\\n    :Number of Attributes: 4 numeric, predictive attributes and the class\\n    :Attribute Information:\\n        - sepal length in cm\\n        - sepal width in cm\\n        - petal length in cm\\n        - petal width in cm\\n        - class:\\n                - Iris-Setosa\\n                - Iris-Versicolour\\n                - Iris-Virginica\\n                \\n    :Summary Statistics:\\n\\n    ============== ==== ==== ======= ===== ====================\\n                    Min  Max   Mean    SD   Class Correlation\\n    ============== ==== ==== ======= ===== ====================\\n    sepal length:   4.3  7.9   5.84   0.83    0.7826\\n    sepal width:    2.0  4.4   3.05   0.43   -0.4194\\n    petal length:   1.0  6.9   3.76   1.76    0.9490  (high!)\\n    petal width:    0.1  2.5   1.20   0.76    0.9565  (high!)\\n    ============== ==== ==== ======= ===== ====================\\n\\n    :Missing Attribute Values: None\\n    :Class Distribution: 33.3% for each of 3 classes.\\n    :Creator: R.A. Fisher\\n    :Donor: Michael Marshall (MARSHALL%PLU@io.arc.nasa.gov)\\n    :Date: July, 1988\\n\\nThe famous Iris database, first used by Sir R.A. Fisher. The dataset is taken\\nfrom Fisher\\'s paper. Note that it\\'s the same as in R, but not as in the UCI\\nMachine Learning Repository, which has two wrong data points.\\n\\nThis is perhaps the best known database to be found in the\\npattern recognition literature.  Fisher\\'s paper is a classic in the field and\\nis referenced frequently to this day.  (See Duda & Hart, for example.)  The\\ndata set contains 3 classes of 50 instances each, where each class refers to a\\ntype of iris plant.  One class is linearly separable from the other 2; the\\nlatter are NOT linearly separable from each other.\\n\\n.. topic:: References\\n\\n   - Fisher, R.A. \"The use of multiple measurements in taxonomic problems\"\\n     Annual Eugenics, 7, Part II, 179-188 (1936); also in \"Contributions to\\n     Mathematical Statistics\" (John Wiley, NY, 1950).\\n   - Duda, R.O., & Hart, P.E. (1973) Pattern Classification and Scene Analysis.\\n     (Q327.D83) John Wiley & Sons.  ISBN 0-471-22361-1.  See page 218.\\n   - Dasarathy, B.V. (1980) \"Nosing Around the Neighborhood: A New System\\n     Structure and Classification Rule for Recognition in Partially Exposed\\n     Environments\".  IEEE Transactions on Pattern Analysis and Machine\\n     Intelligence, Vol. PAMI-2, No. 1, 67-71.\\n   - Gates, G.W. (1972) \"The Reduced Nearest Neighbor Rule\".  IEEE Transactions\\n     on Information Theory, May 1972, 431-433.\\n   - See also: 1988 MLC Proceedings, 54-64.  Cheeseman et al\"s AUTOCLASS II\\n     conceptual clustering system finds 3 classes in the data.\\n   - Many, many more ...', 'feature_names': ['sepal length (cm)', 'sepal width (cm)', 'petal length (cm)', 'petal width (cm)'], 'filename': 'C:\\\\Users\\\\LENOVO\\\\Anaconda3\\\\lib\\\\site-packages\\\\sklearn\\\\datasets\\\\data\\\\iris.csv'}\n"
     ]
    }
   ],
   "source": [
    "print(iris)"
   ]
  },
  {
   "cell_type": "markdown",
   "metadata": {},
   "source": [
    "## l'affichage des noms de variables"
   ]
  },
  {
   "cell_type": "code",
   "execution_count": 4,
   "metadata": {},
   "outputs": [
    {
     "name": "stdout",
     "output_type": "stream",
     "text": [
      "['sepal length (cm)', 'sepal width (cm)', 'petal length (cm)', 'petal width (cm)']\n"
     ]
    }
   ],
   "source": [
    "print(iris.feature_names)"
   ]
  },
  {
   "cell_type": "markdown",
   "metadata": {},
   "source": [
    "## l'affichage des noms de classes"
   ]
  },
  {
   "cell_type": "code",
   "execution_count": 5,
   "metadata": {},
   "outputs": [
    {
     "name": "stdout",
     "output_type": "stream",
     "text": [
      "['setosa' 'versicolor' 'virginica']\n"
     ]
    }
   ],
   "source": [
    "print(iris.target_names)"
   ]
  },
  {
   "cell_type": "markdown",
   "metadata": {},
   "source": [
    "## l'affichage du nom de classe pour chaque donnée"
   ]
  },
  {
   "cell_type": "code",
   "execution_count": 6,
   "metadata": {},
   "outputs": [
    {
     "name": "stdout",
     "output_type": "stream",
     "text": [
      "l'objet :  [5.1 3.5 1.4 0.2]  appartient au classe :  setosa \n",
      "\n",
      "l'objet :  [4.9 3.  1.4 0.2]  appartient au classe :  setosa \n",
      "\n",
      "l'objet :  [4.7 3.2 1.3 0.2]  appartient au classe :  setosa \n",
      "\n",
      "l'objet :  [4.6 3.1 1.5 0.2]  appartient au classe :  setosa \n",
      "\n",
      "l'objet :  [5.  3.6 1.4 0.2]  appartient au classe :  setosa \n",
      "\n",
      "l'objet :  [5.4 3.9 1.7 0.4]  appartient au classe :  setosa \n",
      "\n",
      "l'objet :  [4.6 3.4 1.4 0.3]  appartient au classe :  setosa \n",
      "\n",
      "l'objet :  [5.  3.4 1.5 0.2]  appartient au classe :  setosa \n",
      "\n",
      "l'objet :  [4.4 2.9 1.4 0.2]  appartient au classe :  setosa \n",
      "\n",
      "l'objet :  [4.9 3.1 1.5 0.1]  appartient au classe :  setosa \n",
      "\n",
      "l'objet :  [5.4 3.7 1.5 0.2]  appartient au classe :  setosa \n",
      "\n",
      "l'objet :  [4.8 3.4 1.6 0.2]  appartient au classe :  setosa \n",
      "\n",
      "l'objet :  [4.8 3.  1.4 0.1]  appartient au classe :  setosa \n",
      "\n",
      "l'objet :  [4.3 3.  1.1 0.1]  appartient au classe :  setosa \n",
      "\n",
      "l'objet :  [5.8 4.  1.2 0.2]  appartient au classe :  setosa \n",
      "\n",
      "l'objet :  [5.7 4.4 1.5 0.4]  appartient au classe :  setosa \n",
      "\n",
      "l'objet :  [5.4 3.9 1.3 0.4]  appartient au classe :  setosa \n",
      "\n",
      "l'objet :  [5.1 3.5 1.4 0.3]  appartient au classe :  setosa \n",
      "\n",
      "l'objet :  [5.7 3.8 1.7 0.3]  appartient au classe :  setosa \n",
      "\n",
      "l'objet :  [5.1 3.8 1.5 0.3]  appartient au classe :  setosa \n",
      "\n",
      "l'objet :  [5.4 3.4 1.7 0.2]  appartient au classe :  setosa \n",
      "\n",
      "l'objet :  [5.1 3.7 1.5 0.4]  appartient au classe :  setosa \n",
      "\n",
      "l'objet :  [4.6 3.6 1.  0.2]  appartient au classe :  setosa \n",
      "\n",
      "l'objet :  [5.1 3.3 1.7 0.5]  appartient au classe :  setosa \n",
      "\n",
      "l'objet :  [4.8 3.4 1.9 0.2]  appartient au classe :  setosa \n",
      "\n",
      "l'objet :  [5.  3.  1.6 0.2]  appartient au classe :  setosa \n",
      "\n",
      "l'objet :  [5.  3.4 1.6 0.4]  appartient au classe :  setosa \n",
      "\n",
      "l'objet :  [5.2 3.5 1.5 0.2]  appartient au classe :  setosa \n",
      "\n",
      "l'objet :  [5.2 3.4 1.4 0.2]  appartient au classe :  setosa \n",
      "\n",
      "l'objet :  [4.7 3.2 1.6 0.2]  appartient au classe :  setosa \n",
      "\n",
      "l'objet :  [4.8 3.1 1.6 0.2]  appartient au classe :  setosa \n",
      "\n",
      "l'objet :  [5.4 3.4 1.5 0.4]  appartient au classe :  setosa \n",
      "\n",
      "l'objet :  [5.2 4.1 1.5 0.1]  appartient au classe :  setosa \n",
      "\n",
      "l'objet :  [5.5 4.2 1.4 0.2]  appartient au classe :  setosa \n",
      "\n",
      "l'objet :  [4.9 3.1 1.5 0.2]  appartient au classe :  setosa \n",
      "\n",
      "l'objet :  [5.  3.2 1.2 0.2]  appartient au classe :  setosa \n",
      "\n",
      "l'objet :  [5.5 3.5 1.3 0.2]  appartient au classe :  setosa \n",
      "\n",
      "l'objet :  [4.9 3.6 1.4 0.1]  appartient au classe :  setosa \n",
      "\n",
      "l'objet :  [4.4 3.  1.3 0.2]  appartient au classe :  setosa \n",
      "\n",
      "l'objet :  [5.1 3.4 1.5 0.2]  appartient au classe :  setosa \n",
      "\n",
      "l'objet :  [5.  3.5 1.3 0.3]  appartient au classe :  setosa \n",
      "\n",
      "l'objet :  [4.5 2.3 1.3 0.3]  appartient au classe :  setosa \n",
      "\n",
      "l'objet :  [4.4 3.2 1.3 0.2]  appartient au classe :  setosa \n",
      "\n",
      "l'objet :  [5.  3.5 1.6 0.6]  appartient au classe :  setosa \n",
      "\n",
      "l'objet :  [5.1 3.8 1.9 0.4]  appartient au classe :  setosa \n",
      "\n",
      "l'objet :  [4.8 3.  1.4 0.3]  appartient au classe :  setosa \n",
      "\n",
      "l'objet :  [5.1 3.8 1.6 0.2]  appartient au classe :  setosa \n",
      "\n",
      "l'objet :  [4.6 3.2 1.4 0.2]  appartient au classe :  setosa \n",
      "\n",
      "l'objet :  [5.3 3.7 1.5 0.2]  appartient au classe :  setosa \n",
      "\n",
      "l'objet :  [5.  3.3 1.4 0.2]  appartient au classe :  setosa \n",
      "\n",
      "l'objet :  [7.  3.2 4.7 1.4]  appartient au classe :  versicolor \n",
      "\n",
      "l'objet :  [6.4 3.2 4.5 1.5]  appartient au classe :  versicolor \n",
      "\n",
      "l'objet :  [6.9 3.1 4.9 1.5]  appartient au classe :  versicolor \n",
      "\n",
      "l'objet :  [5.5 2.3 4.  1.3]  appartient au classe :  versicolor \n",
      "\n",
      "l'objet :  [6.5 2.8 4.6 1.5]  appartient au classe :  versicolor \n",
      "\n",
      "l'objet :  [5.7 2.8 4.5 1.3]  appartient au classe :  versicolor \n",
      "\n",
      "l'objet :  [6.3 3.3 4.7 1.6]  appartient au classe :  versicolor \n",
      "\n",
      "l'objet :  [4.9 2.4 3.3 1. ]  appartient au classe :  versicolor \n",
      "\n",
      "l'objet :  [6.6 2.9 4.6 1.3]  appartient au classe :  versicolor \n",
      "\n",
      "l'objet :  [5.2 2.7 3.9 1.4]  appartient au classe :  versicolor \n",
      "\n",
      "l'objet :  [5.  2.  3.5 1. ]  appartient au classe :  versicolor \n",
      "\n",
      "l'objet :  [5.9 3.  4.2 1.5]  appartient au classe :  versicolor \n",
      "\n",
      "l'objet :  [6.  2.2 4.  1. ]  appartient au classe :  versicolor \n",
      "\n",
      "l'objet :  [6.1 2.9 4.7 1.4]  appartient au classe :  versicolor \n",
      "\n",
      "l'objet :  [5.6 2.9 3.6 1.3]  appartient au classe :  versicolor \n",
      "\n",
      "l'objet :  [6.7 3.1 4.4 1.4]  appartient au classe :  versicolor \n",
      "\n",
      "l'objet :  [5.6 3.  4.5 1.5]  appartient au classe :  versicolor \n",
      "\n",
      "l'objet :  [5.8 2.7 4.1 1. ]  appartient au classe :  versicolor \n",
      "\n",
      "l'objet :  [6.2 2.2 4.5 1.5]  appartient au classe :  versicolor \n",
      "\n",
      "l'objet :  [5.6 2.5 3.9 1.1]  appartient au classe :  versicolor \n",
      "\n",
      "l'objet :  [5.9 3.2 4.8 1.8]  appartient au classe :  versicolor \n",
      "\n",
      "l'objet :  [6.1 2.8 4.  1.3]  appartient au classe :  versicolor \n",
      "\n",
      "l'objet :  [6.3 2.5 4.9 1.5]  appartient au classe :  versicolor \n",
      "\n",
      "l'objet :  [6.1 2.8 4.7 1.2]  appartient au classe :  versicolor \n",
      "\n",
      "l'objet :  [6.4 2.9 4.3 1.3]  appartient au classe :  versicolor \n",
      "\n",
      "l'objet :  [6.6 3.  4.4 1.4]  appartient au classe :  versicolor \n",
      "\n",
      "l'objet :  [6.8 2.8 4.8 1.4]  appartient au classe :  versicolor \n",
      "\n",
      "l'objet :  [6.7 3.  5.  1.7]  appartient au classe :  versicolor \n",
      "\n",
      "l'objet :  [6.  2.9 4.5 1.5]  appartient au classe :  versicolor \n",
      "\n",
      "l'objet :  [5.7 2.6 3.5 1. ]  appartient au classe :  versicolor \n",
      "\n",
      "l'objet :  [5.5 2.4 3.8 1.1]  appartient au classe :  versicolor \n",
      "\n",
      "l'objet :  [5.5 2.4 3.7 1. ]  appartient au classe :  versicolor \n",
      "\n",
      "l'objet :  [5.8 2.7 3.9 1.2]  appartient au classe :  versicolor \n",
      "\n",
      "l'objet :  [6.  2.7 5.1 1.6]  appartient au classe :  versicolor \n",
      "\n",
      "l'objet :  [5.4 3.  4.5 1.5]  appartient au classe :  versicolor \n",
      "\n",
      "l'objet :  [6.  3.4 4.5 1.6]  appartient au classe :  versicolor \n",
      "\n",
      "l'objet :  [6.7 3.1 4.7 1.5]  appartient au classe :  versicolor \n",
      "\n",
      "l'objet :  [6.3 2.3 4.4 1.3]  appartient au classe :  versicolor \n",
      "\n",
      "l'objet :  [5.6 3.  4.1 1.3]  appartient au classe :  versicolor \n",
      "\n",
      "l'objet :  [5.5 2.5 4.  1.3]  appartient au classe :  versicolor \n",
      "\n",
      "l'objet :  [5.5 2.6 4.4 1.2]  appartient au classe :  versicolor \n",
      "\n",
      "l'objet :  [6.1 3.  4.6 1.4]  appartient au classe :  versicolor \n",
      "\n",
      "l'objet :  [5.8 2.6 4.  1.2]  appartient au classe :  versicolor \n",
      "\n",
      "l'objet :  [5.  2.3 3.3 1. ]  appartient au classe :  versicolor \n",
      "\n",
      "l'objet :  [5.6 2.7 4.2 1.3]  appartient au classe :  versicolor \n",
      "\n",
      "l'objet :  [5.7 3.  4.2 1.2]  appartient au classe :  versicolor \n",
      "\n",
      "l'objet :  [5.7 2.9 4.2 1.3]  appartient au classe :  versicolor \n",
      "\n",
      "l'objet :  [6.2 2.9 4.3 1.3]  appartient au classe :  versicolor \n",
      "\n",
      "l'objet :  [5.1 2.5 3.  1.1]  appartient au classe :  versicolor \n",
      "\n",
      "l'objet :  [5.7 2.8 4.1 1.3]  appartient au classe :  versicolor \n",
      "\n",
      "l'objet :  [6.3 3.3 6.  2.5]  appartient au classe :  virginica \n",
      "\n",
      "l'objet :  [5.8 2.7 5.1 1.9]  appartient au classe :  virginica \n",
      "\n",
      "l'objet :  [7.1 3.  5.9 2.1]  appartient au classe :  virginica \n",
      "\n",
      "l'objet :  [6.3 2.9 5.6 1.8]  appartient au classe :  virginica \n",
      "\n",
      "l'objet :  [6.5 3.  5.8 2.2]  appartient au classe :  virginica \n",
      "\n",
      "l'objet :  [7.6 3.  6.6 2.1]  appartient au classe :  virginica \n",
      "\n",
      "l'objet :  [4.9 2.5 4.5 1.7]  appartient au classe :  virginica \n",
      "\n",
      "l'objet :  [7.3 2.9 6.3 1.8]  appartient au classe :  virginica \n",
      "\n",
      "l'objet :  [6.7 2.5 5.8 1.8]  appartient au classe :  virginica \n",
      "\n",
      "l'objet :  [7.2 3.6 6.1 2.5]  appartient au classe :  virginica \n",
      "\n",
      "l'objet :  [6.5 3.2 5.1 2. ]  appartient au classe :  virginica \n",
      "\n",
      "l'objet :  [6.4 2.7 5.3 1.9]  appartient au classe :  virginica \n",
      "\n",
      "l'objet :  [6.8 3.  5.5 2.1]  appartient au classe :  virginica \n",
      "\n",
      "l'objet :  [5.7 2.5 5.  2. ]  appartient au classe :  virginica \n",
      "\n",
      "l'objet :  [5.8 2.8 5.1 2.4]  appartient au classe :  virginica \n",
      "\n",
      "l'objet :  [6.4 3.2 5.3 2.3]  appartient au classe :  virginica \n",
      "\n",
      "l'objet :  [6.5 3.  5.5 1.8]  appartient au classe :  virginica \n",
      "\n",
      "l'objet :  [7.7 3.8 6.7 2.2]  appartient au classe :  virginica \n",
      "\n",
      "l'objet :  [7.7 2.6 6.9 2.3]  appartient au classe :  virginica \n",
      "\n",
      "l'objet :  [6.  2.2 5.  1.5]  appartient au classe :  virginica \n",
      "\n",
      "l'objet :  [6.9 3.2 5.7 2.3]  appartient au classe :  virginica \n",
      "\n",
      "l'objet :  [5.6 2.8 4.9 2. ]  appartient au classe :  virginica \n",
      "\n",
      "l'objet :  [7.7 2.8 6.7 2. ]  appartient au classe :  virginica \n",
      "\n",
      "l'objet :  [6.3 2.7 4.9 1.8]  appartient au classe :  virginica \n",
      "\n",
      "l'objet :  [6.7 3.3 5.7 2.1]  appartient au classe :  virginica \n",
      "\n",
      "l'objet :  [7.2 3.2 6.  1.8]  appartient au classe :  virginica \n",
      "\n",
      "l'objet :  [6.2 2.8 4.8 1.8]  appartient au classe :  virginica \n",
      "\n",
      "l'objet :  [6.1 3.  4.9 1.8]  appartient au classe :  virginica \n",
      "\n",
      "l'objet :  [6.4 2.8 5.6 2.1]  appartient au classe :  virginica \n",
      "\n",
      "l'objet :  [7.2 3.  5.8 1.6]  appartient au classe :  virginica \n",
      "\n",
      "l'objet :  [7.4 2.8 6.1 1.9]  appartient au classe :  virginica \n",
      "\n",
      "l'objet :  [7.9 3.8 6.4 2. ]  appartient au classe :  virginica \n",
      "\n",
      "l'objet :  [6.4 2.8 5.6 2.2]  appartient au classe :  virginica \n",
      "\n",
      "l'objet :  [6.3 2.8 5.1 1.5]  appartient au classe :  virginica \n",
      "\n",
      "l'objet :  [6.1 2.6 5.6 1.4]  appartient au classe :  virginica \n",
      "\n",
      "l'objet :  [7.7 3.  6.1 2.3]  appartient au classe :  virginica \n",
      "\n",
      "l'objet :  [6.3 3.4 5.6 2.4]  appartient au classe :  virginica \n",
      "\n",
      "l'objet :  [6.4 3.1 5.5 1.8]  appartient au classe :  virginica \n",
      "\n",
      "l'objet :  [6.  3.  4.8 1.8]  appartient au classe :  virginica \n",
      "\n",
      "l'objet :  [6.9 3.1 5.4 2.1]  appartient au classe :  virginica \n",
      "\n",
      "l'objet :  [6.7 3.1 5.6 2.4]  appartient au classe :  virginica \n",
      "\n",
      "l'objet :  [6.9 3.1 5.1 2.3]  appartient au classe :  virginica \n",
      "\n",
      "l'objet :  [5.8 2.7 5.1 1.9]  appartient au classe :  virginica \n",
      "\n",
      "l'objet :  [6.8 3.2 5.9 2.3]  appartient au classe :  virginica \n",
      "\n",
      "l'objet :  [6.7 3.3 5.7 2.5]  appartient au classe :  virginica \n",
      "\n",
      "l'objet :  [6.7 3.  5.2 2.3]  appartient au classe :  virginica \n",
      "\n",
      "l'objet :  [6.3 2.5 5.  1.9]  appartient au classe :  virginica \n",
      "\n",
      "l'objet :  [6.5 3.  5.2 2. ]  appartient au classe :  virginica \n",
      "\n",
      "l'objet :  [6.2 3.4 5.4 2.3]  appartient au classe :  virginica \n",
      "\n",
      "l'objet :  [5.9 3.  5.1 1.8]  appartient au classe :  virginica \n",
      "\n"
     ]
    }
   ],
   "source": [
    "for i in range(len(features)):\n",
    "    print('l\\'objet : ' , features[i] , ' appartient au classe : ' , iris.target_names[int(targets[i])] , '\\n')"
   ]
  },
  {
   "cell_type": "markdown",
   "metadata": {},
   "source": [
    "## l'affichage de moyenne (mean), l’ecart-type (std), le min et le max pour chaque variable."
   ]
  },
  {
   "cell_type": "code",
   "execution_count": 7,
   "metadata": {},
   "outputs": [
    {
     "name": "stdout",
     "output_type": "stream",
     "text": [
      " la moyenne pour chaque variable :  [5.84333333 3.05733333 3.758      1.19933333]\n",
      " l’ecart-type pour chaque variable :  [0.82530129 0.43441097 1.75940407 0.75969263]\n",
      " le min pour chaque variable :  [4.3 2.  1.  0.1]\n",
      " le max pour chaque variable :  [7.9 4.4 6.9 2.5]\n"
     ]
    }
   ],
   "source": [
    "mean = features.mean(0)\n",
    "std = features.std(0)\n",
    "min = features.min(0)\n",
    "max = features.max(0)\n",
    "print(' la moyenne pour chaque variable : ',mean)\n",
    "print(' l’ecart-type pour chaque variable : ',std)\n",
    "print(' le min pour chaque variable : ',min)\n",
    "print(' le max pour chaque variable : ',max)"
   ]
  },
  {
   "cell_type": "markdown",
   "metadata": {},
   "source": [
    "## affichage du nombre de données, variables et de classes"
   ]
  },
  {
   "cell_type": "code",
   "execution_count": 8,
   "metadata": {},
   "outputs": [
    {
     "name": "stdout",
     "output_type": "stream",
     "text": [
      "le nombre de données :  600\n",
      "le nombre de variables :  4\n",
      "le nombre de classes :  3\n"
     ]
    }
   ],
   "source": [
    "print('le nombre de données : ',features.size)\n",
    "print('le nombre de variables : ',features.shape[1])\n",
    "print('le nombre de classes : ',iris.target_names.shape[0])"
   ]
  },
  {
   "cell_type": "markdown",
   "metadata": {},
   "source": [
    "# Téléchargement et importation de données"
   ]
  },
  {
   "cell_type": "code",
   "execution_count": 9,
   "metadata": {},
   "outputs": [
    {
     "name": "stdout",
     "output_type": "stream",
     "text": [
      "fin de téléchargement\n"
     ]
    }
   ],
   "source": [
    "mnist = fetch_openml('mnist_784',version=1,cache=True)\n",
    "print('fin de téléchargement')"
   ]
  },
  {
   "cell_type": "markdown",
   "metadata": {},
   "source": [
    "## affichage du matrice des données"
   ]
  },
  {
   "cell_type": "code",
   "execution_count": 10,
   "metadata": {},
   "outputs": [
    {
     "name": "stdout",
     "output_type": "stream",
     "text": [
      "[[0. 0. 0. ... 0. 0. 0.]\n",
      " [0. 0. 0. ... 0. 0. 0.]\n",
      " [0. 0. 0. ... 0. 0. 0.]\n",
      " ...\n",
      " [0. 0. 0. ... 0. 0. 0.]\n",
      " [0. 0. 0. ... 0. 0. 0.]\n",
      " [0. 0. 0. ... 0. 0. 0.]]\n"
     ]
    }
   ],
   "source": [
    "features_mnist = mnist.data\n",
    "targets_mnist = mnist.target\n",
    "\n",
    "print(features_mnist)"
   ]
  },
  {
   "cell_type": "markdown",
   "metadata": {},
   "source": [
    "## affichage du nombre de données"
   ]
  },
  {
   "cell_type": "code",
   "execution_count": 11,
   "metadata": {},
   "outputs": [
    {
     "name": "stdout",
     "output_type": "stream",
     "text": [
      "54880000\n"
     ]
    }
   ],
   "source": [
    "print(features_mnist.size)"
   ]
  },
  {
   "cell_type": "markdown",
   "metadata": {},
   "source": [
    "## affichage du nombre de variables"
   ]
  },
  {
   "cell_type": "code",
   "execution_count": 12,
   "metadata": {},
   "outputs": [
    {
     "name": "stdout",
     "output_type": "stream",
     "text": [
      "784\n"
     ]
    }
   ],
   "source": [
    "print(features_mnist.shape[1])"
   ]
  },
  {
   "cell_type": "markdown",
   "metadata": {},
   "source": [
    "## l'affichage de numéro de classe pour chaque donnée"
   ]
  },
  {
   "cell_type": "code",
   "execution_count": 15,
   "metadata": {},
   "outputs": [
    {
     "name": "stdout",
     "output_type": "stream",
     "text": [
      "l'objet :  [0. 0. 0. 0. 0.]  appartient au classe :  5 \n",
      "\n",
      "l'objet :  [0. 0. 0. 0. 0.]  appartient au classe :  0 \n",
      "\n",
      "l'objet :  [0. 0. 0. 0. 0.]  appartient au classe :  4 \n",
      "\n",
      "l'objet :  [0. 0. 0. 0. 0.]  appartient au classe :  1 \n",
      "\n",
      "l'objet :  [0. 0. 0. 0. 0.]  appartient au classe :  9 \n",
      "\n",
      "l'objet :  [0. 0. 0. 0. 0.]  appartient au classe :  2 \n",
      "\n",
      "l'objet :  [0. 0. 0. 0. 0.]  appartient au classe :  1 \n",
      "\n",
      "l'objet :  [0. 0. 0. 0. 0.]  appartient au classe :  3 \n",
      "\n",
      "l'objet :  [0. 0. 0. 0. 0.]  appartient au classe :  1 \n",
      "\n",
      "l'objet :  [0. 0. 0. 0. 0.]  appartient au classe :  4 \n",
      "\n"
     ]
    }
   ],
   "source": [
    "for i in range(10):\n",
    "    print('l\\'objet : ' , features_mnist[i][0:5] , ' appartient au classe : ' , targets_mnist[i] , '\\n')"
   ]
  },
  {
   "cell_type": "markdown",
   "metadata": {},
   "source": [
    "## l'affichage de moyenne (mean), l’ecart-type (std), le min et le max pour chaque variable."
   ]
  },
  {
   "cell_type": "code",
   "execution_count": 23,
   "metadata": {},
   "outputs": [
    {
     "name": "stdout",
     "output_type": "stream",
     "text": [
      " la moyenne pour chaque variable :  [58.16131429 40.4515     25.59697143 15.07995714  8.34447143]\n",
      " l’ecart-type pour chaque variable :  [94.37158171 81.94658812 67.18540081 52.44126013 39.4835667 ]\n",
      " le min pour chaque variable :  [0. 0. 0. 0. 0.]\n",
      " le max pour chaque variable :  [255. 255. 255. 255. 255.]\n"
     ]
    }
   ],
   "source": [
    "mean_mnist = features_mnist.mean(0)\n",
    "std_mnist = features_mnist.std(0)\n",
    "min_mnist = features_mnist.min(0)\n",
    "max_mnist = features_mnist.max(0)\n",
    "print(' la moyenne pour chaque variable : ',mean_mnist[660:665])\n",
    "print(' l’ecart-type pour chaque variable : ',std_mnist[660:665])\n",
    "print(' le min pour chaque variable : ',min_mnist[660:665])\n",
    "print(' le max pour chaque variable : ',max_mnist[660:665])"
   ]
  },
  {
   "cell_type": "markdown",
   "metadata": {},
   "source": [
    "## affichage du nombre de classe avec la fonction unique."
   ]
  },
  {
   "cell_type": "code",
   "execution_count": 26,
   "metadata": {},
   "outputs": [
    {
     "name": "stdout",
     "output_type": "stream",
     "text": [
      "les classes du la données mnist :  ['0' '1' '2' '3' '4' '5' '6' '7' '8' '9']\n",
      "le nombre des classes :  10\n"
     ]
    }
   ],
   "source": [
    "classes_num = np.unique(targets_mnist)\n",
    "print('les classes du la données mnist : ',classes_num)\n",
    "print('le nombre des classes : ',classes_num.size)"
   ]
  },
  {
   "cell_type": "markdown",
   "metadata": {},
   "source": [
    "# Génération de données et affichage"
   ]
  },
  {
   "cell_type": "code",
   "execution_count": 27,
   "metadata": {},
   "outputs": [
    {
     "name": "stdout",
     "output_type": "stream",
     "text": [
      "Help on function make_blobs in module sklearn.datasets.samples_generator:\n",
      "\n",
      "make_blobs(n_samples=100, n_features=2, centers=None, cluster_std=1.0, center_box=(-10.0, 10.0), shuffle=True, random_state=None)\n",
      "    Generate isotropic Gaussian blobs for clustering.\n",
      "    \n",
      "    Read more in the :ref:`User Guide <sample_generators>`.\n",
      "    \n",
      "    Parameters\n",
      "    ----------\n",
      "    n_samples : int or array-like, optional (default=100)\n",
      "        If int, it is the total number of points equally divided among\n",
      "        clusters.\n",
      "        If array-like, each element of the sequence indicates\n",
      "        the number of samples per cluster.\n",
      "    \n",
      "    n_features : int, optional (default=2)\n",
      "        The number of features for each sample.\n",
      "    \n",
      "    centers : int or array of shape [n_centers, n_features], optional\n",
      "        (default=None)\n",
      "        The number of centers to generate, or the fixed center locations.\n",
      "        If n_samples is an int and centers is None, 3 centers are generated.\n",
      "        If n_samples is array-like, centers must be\n",
      "        either None or an array of length equal to the length of n_samples.\n",
      "    \n",
      "    cluster_std : float or sequence of floats, optional (default=1.0)\n",
      "        The standard deviation of the clusters.\n",
      "    \n",
      "    center_box : pair of floats (min, max), optional (default=(-10.0, 10.0))\n",
      "        The bounding box for each cluster center when centers are\n",
      "        generated at random.\n",
      "    \n",
      "    shuffle : boolean, optional (default=True)\n",
      "        Shuffle the samples.\n",
      "    \n",
      "    random_state : int, RandomState instance or None (default)\n",
      "        Determines random number generation for dataset creation. Pass an int\n",
      "        for reproducible output across multiple function calls.\n",
      "        See :term:`Glossary <random_state>`.\n",
      "    \n",
      "    Returns\n",
      "    -------\n",
      "    X : array of shape [n_samples, n_features]\n",
      "        The generated samples.\n",
      "    \n",
      "    y : array of shape [n_samples]\n",
      "        The integer labels for cluster membership of each sample.\n",
      "    \n",
      "    Examples\n",
      "    --------\n",
      "    >>> from sklearn.datasets.samples_generator import make_blobs\n",
      "    >>> X, y = make_blobs(n_samples=10, centers=3, n_features=2,\n",
      "    ...                   random_state=0)\n",
      "    >>> print(X.shape)\n",
      "    (10, 2)\n",
      "    >>> y\n",
      "    array([0, 0, 1, 0, 2, 2, 2, 1, 1, 0])\n",
      "    >>> X, y = make_blobs(n_samples=[3, 3, 4], centers=None, n_features=2,\n",
      "    ...                   random_state=0)\n",
      "    >>> print(X.shape)\n",
      "    (10, 2)\n",
      "    >>> y\n",
      "    array([0, 1, 2, 0, 2, 2, 2, 1, 1, 0])\n",
      "    \n",
      "    See also\n",
      "    --------\n",
      "    make_classification: a more intricate variant\n",
      "\n"
     ]
    }
   ],
   "source": [
    "help(datasets.make_blobs)"
   ]
  },
  {
   "cell_type": "markdown",
   "metadata": {},
   "source": [
    "## Générez 1000 données de deux variables réparties en 4 groupes"
   ]
  },
  {
   "cell_type": "code",
   "execution_count": 40,
   "metadata": {},
   "outputs": [],
   "source": [
    "generalized_features,generalized_targets = make_blobs(n_samples=1000, n_features=2, centers=4, random_state=0)"
   ]
  },
  {
   "cell_type": "code",
   "execution_count": 48,
   "metadata": {},
   "outputs": [
    {
     "data": {
      "image/png": "[encoded data removed]",
      "text/plain": [
       "<Figure size 432x288 with 1 Axes>"
      ]
     },
     "metadata": {
      "needs_background": "light"
     },
     "output_type": "display_data"
    }
   ],
   "source": [
    "plt.figure()\n",
    "plt.scatter(generalized_features[:,0], generalized_features[:,1], c=generalized_targets)\n",
    "plt.title('Variable x2 en fonction de la variable x1')\n",
    "plt.xlabel('Variable x1')\n",
    "plt.ylabel('Variable x2')\n",
    "plt.xlim(-15,15)\n",
    "plt.ylim(-15,15)\n",
    "plt.show()"
   ]
  },
  {
   "cell_type": "markdown",
   "metadata": {},
   "source": [
    "## Générez 100 données de deux variables en 2 groupes"
   ]
  },
  {
   "cell_type": "code",
   "execution_count": 49,
   "metadata": {},
   "outputs": [],
   "source": [
    "generalized_features_1,generalized_targets_1 = make_blobs(n_samples=100, n_features=2, centers=2, random_state=0)"
   ]
  },
  {
   "cell_type": "markdown",
   "metadata": {},
   "source": [
    "## Générez 500 données de deux variables en 3 groupes"
   ]
  },
  {
   "cell_type": "code",
   "execution_count": 50,
   "metadata": {},
   "outputs": [],
   "source": [
    "generalized_features_2,generalized_targets_2 = make_blobs(n_samples=500, n_features=2, centers=3, random_state=0)"
   ]
  },
  {
   "cell_type": "markdown",
   "metadata": {},
   "source": [
    "## Concaténation les 2 donées en une 3eme"
   ]
  },
  {
   "cell_type": "code",
   "execution_count": 53,
   "metadata": {},
   "outputs": [
    {
     "data": {
      "text/plain": [
       "(600, 2)"
      ]
     },
     "execution_count": 53,
     "metadata": {},
     "output_type": "execute_result"
    }
   ],
   "source": [
    "concatenate_features = np.vstack((generalized_features_1,generalized_features_2))\n",
    "concatenate_features.shape"
   ]
  },
  {
   "cell_type": "code",
   "execution_count": 56,
   "metadata": {},
   "outputs": [
    {
     "data": {
      "text/plain": [
       "array([0, 1, 2])"
      ]
     },
     "execution_count": 56,
     "metadata": {},
     "output_type": "execute_result"
    }
   ],
   "source": [
    "concatenate_targets = np.hstack((generalized_targets_1,generalized_targets_2))\n",
    "np.unique(concatenate_targets)"
   ]
  },
  {
   "cell_type": "code",
   "execution_count": 63,
   "metadata": {},
   "outputs": [
    {
     "data": {
      "image/png": "[encoded data removed]",
      "text/plain": [
       "<Figure size 1440x360 with 3 Axes>"
      ]
     },
     "metadata": {
      "needs_background": "light"
     },
     "output_type": "display_data"
    }
   ],
   "source": [
    "plt.subplots(1,3,figsize=(20,5))\n",
    "\n",
    "plt.subplot(1,3,1)\n",
    "plt.scatter(generalized_features_1[:,0], generalized_features_1[:,1], c=generalized_targets_1)\n",
    "plt.title('first generalized data')\n",
    "plt.xlabel('Variable x1')\n",
    "plt.ylabel('Variable x2')\n",
    "plt.xlim(-15,15)\n",
    "plt.ylim(-15,15)\n",
    "\n",
    "plt.subplot(1,3,2)\n",
    "plt.scatter(generalized_features_2[:,0], generalized_features_2[:,1], c=generalized_targets_2)\n",
    "plt.title('second generalized data')\n",
    "plt.xlabel('Variable x1')\n",
    "plt.ylabel('Variable x2')\n",
    "plt.xlim(-15,15)\n",
    "plt.ylim(-15,15)\n",
    "\n",
    "plt.subplot(1,3,3)\n",
    "plt.scatter(concatenate_features[:,0], concatenate_features[:,1], c=concatenate_targets)\n",
    "plt.title('concatenate data')\n",
    "plt.xlabel('Variable x1')\n",
    "plt.ylabel('Variable x2')\n",
    "plt.xlim(-15,15)\n",
    "plt.ylim(-15,15)\n",
    "\n",
    "plt.show()"
   ]
  },
  {
   "cell_type": "code",
   "execution_count": null,
   "metadata": {},
   "outputs": [],
   "source": []
  }
 ],
 "metadata": {
  "kernelspec": {
   "display_name": "Python 3",
   "language": "python",
   "name": "python3"
  },
  "language_info": {
   "codemirror_mode": {
    "name": "ipython",
    "version": 3
   },
   "file_extension": ".py",
   "mimetype": "text/x-python",
   "name": "python",
   "nbconvert_exporter": "python",
   "pygments_lexer": "ipython3",
   "version": "3.7.3"
  }
 },
 "nbformat": 4,
 "nbformat_minor": 2
}
