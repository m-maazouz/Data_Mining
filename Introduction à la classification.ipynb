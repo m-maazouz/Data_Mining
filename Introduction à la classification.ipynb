{
 "cells": [
  {
   "cell_type": "markdown",
   "metadata": {},
   "source": [
    "<h1><center>TP3 Introduction à la classification</center></h1>"
   ]
  },
  {
   "cell_type": "markdown",
   "metadata": {},
   "source": [
    "# Plus Proche Voisin"
   ]
  },
  {
   "cell_type": "markdown",
   "metadata": {},
   "source": [
    "## importer les bibliotheques"
   ]
  },
  {
   "cell_type": "code",
   "execution_count": 2,
   "metadata": {},
   "outputs": [],
   "source": [
    "import numpy as np\n",
    "from matplotlib import pyplot as plt\n",
    "from sklearn import datasets\n",
    "from sklearn.model_selection import train_test_split\n",
    "from sklearn.neighbors import KNeighborsClassifier\n",
    "from sklearn.metrics.pairwise import euclidean_distances\n",
    "from sklearn import metrics\n",
    "from collections import Counter\n",
    "from functools import reduce\n",
    "from sklearn.naive_bayes import GaussianNB\n",
    "from sklearn.naive_bayes import BernoulliNB\n",
    "from scipy.spatial import distance"
   ]
  },
  {
   "cell_type": "markdown",
   "metadata": {},
   "source": [
    "## chargement des données"
   ]
  },
  {
   "cell_type": "code",
   "execution_count": 3,
   "metadata": {},
   "outputs": [],
   "source": [
    "iris = datasets.load_iris()\n",
    "features = iris.data\n",
    "targets = iris.target"
   ]
  },
  {
   "cell_type": "markdown",
   "metadata": {},
   "source": [
    "## Creation de la fonction PPV(X,Y)"
   ]
  },
  {
   "cell_type": "code",
   "execution_count": 4,
   "metadata": {},
   "outputs": [
    {
     "data": {
      "text/plain": [
       "{'target': array([0., 0., 0., 0., 0., 0., 0., 0., 0., 0., 0., 0., 0., 0., 0., 0., 0.,\n",
       "        0., 0., 0., 0., 0., 0., 0., 0., 0., 0., 0., 0., 0., 0., 0., 0., 0.,\n",
       "        0., 0., 0., 0., 0., 0., 0., 0., 0., 0., 0., 0., 0., 0., 0., 0., 1.,\n",
       "        1., 1., 1., 1., 1., 1., 1., 1., 1., 1., 1., 1., 1., 1., 1., 1., 1.,\n",
       "        1., 1., 2., 1., 2., 1., 1., 1., 1., 1., 1., 1., 1., 1., 1., 2., 1.,\n",
       "        1., 1., 1., 1., 1., 1., 1., 1., 1., 1., 1., 1., 1., 1., 1., 2., 2.,\n",
       "        2., 2., 2., 2., 1., 2., 2., 2., 2., 2., 2., 2., 2., 2., 2., 2., 2.,\n",
       "        1., 2., 2., 2., 2., 2., 2., 2., 2., 2., 2., 2., 2., 2., 1., 2., 2.,\n",
       "        2., 2., 2., 2., 2., 2., 2., 2., 2., 2., 2., 2., 2., 2.]),\n",
       " 'error': 4.0000000000000036}"
      ]
     },
     "execution_count": 4,
     "metadata": {},
     "output_type": "execute_result"
    }
   ],
   "source": [
    "def error(target_1, target_2):\n",
    "#     size = len(target_1)\n",
    "#     cmp = 0\n",
    "#     for i in range(size):\n",
    "#         if target_1[i] != target_2[i]:\n",
    "#             cmp += 1\n",
    "#     r = cmp*100/size\n",
    "    return (1-(metrics.accuracy_score(target_1,target_2)))*100\n",
    "\n",
    "def PPV(X,Y):\n",
    "    #calculate data size\n",
    "    data_size = len(X)\n",
    "    #inisialize new targets with zeros\n",
    "    new_target = np.zeros(data_size)\n",
    "    for index in range(data_size):\n",
    "        #select variable\n",
    "        var = X[index]\n",
    "        #delete variable from training data\n",
    "        train = np.delete(X, index, 0)\n",
    "        #delete variable classe name from training targets\n",
    "        train_target = np.delete(Y, index, 0)\n",
    "        #check if element was deleting\n",
    "        if data_size-1 != len(train):exit()\n",
    "        # calculate euclidean_distances betwen selected variable and training data\n",
    "        dist = list(euclidean_distances(train,var.reshape(1,-1)))\n",
    "        # Select class of the closest data\n",
    "        min_dist_idx = np.argmin(dist)\n",
    "        new_target[index] = train_target[min_dist_idx]       \n",
    "    return {'target': new_target, 'error': error(new_target,Y)}   \n",
    "\n",
    "PPV(features,targets)"
   ]
  },
  {
   "cell_type": "markdown",
   "metadata": {},
   "source": [
    "## Test KNN classifier de sklearn pour plusieur valuer de k "
   ]
  },
  {
   "cell_type": "code",
   "execution_count": 57,
   "metadata": {},
   "outputs": [
    {
     "name": "stdout",
     "output_type": "stream",
     "text": [
      "{'target': array([0., 0., 0., 0., 0., 0., 0., 0., 0., 0., 0., 0., 0., 0., 0., 0., 0.,\n",
      "       0., 0., 0., 0., 0., 0., 0., 0., 0., 0., 0., 0., 0., 0., 0., 0., 0.,\n",
      "       0., 0., 0., 0., 0., 0., 0., 0., 0., 0., 0., 0., 0., 0., 0., 0., 1.,\n",
      "       1., 1., 1., 1., 1., 1., 1., 1., 1., 1., 1., 1., 1., 1., 1., 1., 1.,\n",
      "       1., 1., 2., 1., 2., 1., 1., 1., 1., 1., 1., 1., 1., 1., 1., 2., 1.,\n",
      "       1., 1., 1., 1., 1., 1., 1., 1., 1., 1., 1., 1., 1., 1., 1., 2., 2.,\n",
      "       2., 2., 2., 2., 1., 2., 2., 2., 2., 2., 2., 2., 2., 2., 2., 2., 2.,\n",
      "       1., 2., 2., 2., 2., 2., 2., 2., 2., 2., 2., 2., 2., 2., 1., 2., 2.,\n",
      "       2., 2., 2., 2., 2., 2., 2., 2., 2., 2., 2., 2., 2., 2.]), 'error': 4.0000000000000036}\n",
      "{'target': array([0., 0., 0., 0., 0., 0., 0., 0., 0., 0., 0., 0., 0., 0., 0., 0., 0.,\n",
      "       0., 0., 0., 0., 0., 0., 0., 0., 0., 0., 0., 0., 0., 0., 0., 0., 0.,\n",
      "       0., 0., 0., 0., 0., 0., 0., 0., 0., 0., 0., 0., 0., 0., 0., 0., 1.,\n",
      "       1., 1., 1., 1., 1., 1., 1., 1., 1., 1., 1., 1., 1., 1., 1., 1., 1.,\n",
      "       1., 1., 2., 1., 2., 1., 1., 1., 1., 1., 1., 1., 1., 1., 1., 2., 1.,\n",
      "       1., 1., 1., 1., 1., 1., 1., 1., 1., 1., 1., 1., 1., 1., 1., 2., 2.,\n",
      "       2., 2., 2., 2., 1., 2., 2., 2., 2., 2., 2., 2., 2., 2., 2., 2., 2.,\n",
      "       1., 2., 2., 2., 2., 2., 2., 2., 2., 2., 2., 2., 2., 2., 2., 2., 2.,\n",
      "       2., 2., 2., 2., 2., 2., 2., 2., 2., 2., 2., 2., 2., 2.]), 'error': 3.3333333333333326}\n",
      "{'target': array([0., 0., 0., 0., 0., 0., 0., 0., 0., 0., 0., 0., 0., 0., 0., 0., 0.,\n",
      "       0., 0., 0., 0., 0., 0., 0., 0., 0., 0., 0., 0., 0., 0., 0., 0., 0.,\n",
      "       0., 0., 0., 0., 0., 0., 0., 0., 0., 0., 0., 0., 0., 0., 0., 0., 1.,\n",
      "       1., 1., 1., 1., 1., 1., 1., 1., 1., 1., 1., 1., 1., 1., 1., 1., 1.,\n",
      "       1., 1., 1., 1., 1., 1., 1., 1., 1., 2., 1., 1., 1., 1., 1., 2., 1.,\n",
      "       1., 1., 1., 1., 1., 1., 1., 1., 1., 1., 1., 1., 1., 1., 1., 2., 2.,\n",
      "       2., 2., 2., 2., 1., 2., 2., 2., 2., 2., 2., 2., 2., 2., 2., 2., 2.,\n",
      "       2., 2., 2., 2., 2., 2., 2., 2., 2., 2., 2., 2., 2., 2., 2., 2., 2.,\n",
      "       2., 2., 2., 2., 2., 2., 2., 2., 2., 2., 2., 2., 2., 2.]), 'error': 2.0000000000000018}\n"
     ]
    }
   ],
   "source": [
    "def KNN(features,targets,k):\n",
    "    data_size = len(features)\n",
    "    #inisialize new targets with zeros\n",
    "    new_target = np.zeros(data_size)\n",
    "    for index in range(data_size):\n",
    "        #select variable\n",
    "        var = features[index]\n",
    "        #delete variable from training data\n",
    "        train = np.delete(features, index, 0)\n",
    "        #delete variable classe name from training targets\n",
    "        train_target = np.delete(targets, index, 0)\n",
    "        model = KNeighborsClassifier(n_neighbors=k)\n",
    "        model.fit(train, train_target)\n",
    "        new_target[index] = model.predict(var.reshape(1,-1))\n",
    "    return {'target': new_target, 'error': error(new_target,targets)} \n",
    "\n",
    "# # pour k = 1 \n",
    "print(KNN(features,targets,1))\n",
    "# # pour k = 5\n",
    "print(KNN(features,targets,5))\n",
    "# # pour k = 10 \n",
    "print(KNN(features,targets,19))"
   ]
  },
  {
   "cell_type": "markdown",
   "metadata": {},
   "source": [
    "## la fonction PPV après mise à jour"
   ]
  },
  {
   "cell_type": "code",
   "execution_count": 69,
   "metadata": {},
   "outputs": [
    {
     "name": "stdout",
     "output_type": "stream",
     "text": [
      "3\n"
     ]
    },
    {
     "data": {
      "text/plain": [
       "1"
      ]
     },
     "execution_count": 69,
     "metadata": {},
     "output_type": "execute_result"
    }
   ],
   "source": [
    "def majorety(arr):\n",
    "    uniques = np.unique(arr)\n",
    "    res = []\n",
    "    for u in uniques:\n",
    "        tmp = [u,0,0]\n",
    "        cmp = 0\n",
    "        for e,i in zip(arr,range(len(arr))):\n",
    "            if e == u :\n",
    "                tmp[1] +=1\n",
    "                if cmp == 0:\n",
    "                    tmp[2] = i\n",
    "                    cmp += 1\n",
    "        res.append(tmp)\n",
    "    best = res[0]\n",
    "    arr = list(np.delete(np.array(res),0,axis=0))\n",
    "    for t in res:\n",
    "        if best[1] < t[1]:\n",
    "            best = t\n",
    "        else:\n",
    "            if best[1] == t[1]:\n",
    "                if best[2] > t[2]:\n",
    "                    best = t       \n",
    "    return best[0]\n",
    "            \n",
    "arr = np.array([ 3, 3, 2, 2, 1, 1])\n",
    "print(majorety(arr))\n",
    "np.bincount(arr).argmax()"
   ]
  },
  {
   "cell_type": "code",
   "execution_count": 64,
   "metadata": {},
   "outputs": [
    {
     "data": {
      "text/plain": [
       "{'target': array([0., 0., 0., 0., 0., 0., 0., 0., 0., 0., 0., 0., 0., 0., 0., 0., 0.,\n",
       "        0., 0., 0., 0., 0., 0., 0., 0., 0., 0., 0., 0., 0., 0., 0., 0., 0.,\n",
       "        0., 0., 0., 0., 0., 0., 0., 0., 0., 0., 0., 0., 0., 0., 0., 0., 1.,\n",
       "        1., 1., 1., 1., 1., 1., 1., 1., 1., 1., 1., 1., 1., 1., 1., 1., 1.,\n",
       "        1., 1., 2., 1., 2., 1., 1., 1., 1., 1., 1., 1., 1., 1., 1., 2., 1.,\n",
       "        1., 1., 1., 1., 1., 1., 1., 1., 1., 1., 1., 1., 1., 1., 1., 2., 2.,\n",
       "        2., 2., 2., 2., 1., 2., 2., 2., 2., 2., 2., 2., 2., 2., 2., 2., 2.,\n",
       "        1., 2., 2., 2., 2., 2., 2., 2., 2., 2., 2., 2., 2., 2., 2., 2., 2.,\n",
       "        2., 2., 2., 2., 2., 2., 2., 2., 2., 2., 2., 2., 2., 2.]),\n",
       " 'error': 3.3333333333333326}"
      ]
     },
     "execution_count": 64,
     "metadata": {},
     "output_type": "execute_result"
    }
   ],
   "source": [
    "def PPV_1(X,Y,K):\n",
    "    #calculate data size\n",
    "    data_size = len(X)\n",
    "    #inisialize new targets with zeros\n",
    "    new_target = np.zeros(data_size)\n",
    "    for index in range(data_size):\n",
    "        #select variable\n",
    "        var = X[index]\n",
    "        #delete variable from training data\n",
    "        train = np.delete(X, index, 0)\n",
    "        #delete variable classe name from training targets\n",
    "        train_target = np.delete(Y, index, 0)\n",
    "        #check if element was deleting\n",
    "        if data_size-1 != len(train):exit()\n",
    "        # calculate euclidean_distances betwen selected variable and training data\n",
    "        dist = list(euclidean_distances(train,var.reshape(1,-1)))\n",
    "        distance = np.array(euclidean_distances(train,var.reshape(1,-1))).flatten()\n",
    "        if K == 1:\n",
    "            # Select class of the closest data\n",
    "            min_dist_idx = np.argmin(dist)\n",
    "            new_target[index] = train_target[min_dist_idx]\n",
    "        else :\n",
    "            #sort indexes of closed variables\n",
    "            sorted_dist = distance.argsort()\n",
    "            #get indexes of closed variables\n",
    "            kmin_dist = sorted_dist[0:K]\n",
    "            # get the index class for each elements in k closed variables\n",
    "            kmin_dist_index = [ train_target[i] for i in kmin_dist ]\n",
    "#             print(kmin_dist_index)\n",
    "            #get the majority class\n",
    "            index_max = majorety(kmin_dist_index)#np.bincount(kmin_dist_index).argmax()\n",
    "#             print(kmin_dist_index)\n",
    "#             print(index_max)\n",
    "            new_target[index] = index_max\n",
    "            \n",
    "    return {'target': new_target, 'error': error(new_target,Y)}   \n",
    "\n",
    "PPV_1(features,targets,5)"
   ]
  },
  {
   "cell_type": "markdown",
   "metadata": {},
   "source": [
    "## Classifieur Bayesien Naïf"
   ]
  },
  {
   "cell_type": "markdown",
   "metadata": {},
   "source": [
    "## Creation de la fonction CBN(X,Y)"
   ]
  },
  {
   "cell_type": "code",
   "execution_count": 93,
   "metadata": {},
   "outputs": [
    {
     "name": "stdout",
     "output_type": "stream",
     "text": [
      "{'target': array([0., 0., 0., 0., 0., 0., 0., 0., 0., 0., 0., 0., 0., 0., 0., 0., 0.,\n",
      "       0., 0., 0., 0., 0., 0., 0., 0., 0., 0., 0., 0., 0., 0., 0., 0., 0.,\n",
      "       0., 0., 0., 0., 0., 0., 0., 0., 0., 0., 0., 0., 0., 0., 0., 0., 2.,\n",
      "       1., 2., 1., 1., 1., 1., 1., 1., 1., 1., 1., 1., 1., 1., 1., 1., 1.,\n",
      "       1., 1., 1., 1., 1., 1., 1., 1., 2., 2., 1., 1., 1., 1., 1., 2., 1.,\n",
      "       1., 1., 1., 1., 1., 1., 1., 1., 1., 1., 1., 1., 1., 1., 1., 2., 2.,\n",
      "       2., 2., 2., 2., 1., 2., 2., 2., 2., 2., 2., 1., 2., 2., 2., 2., 2.,\n",
      "       1., 2., 1., 2., 2., 2., 2., 1., 1., 2., 2., 2., 2., 2., 2., 2., 2.,\n",
      "       2., 2., 1., 2., 2., 2., 2., 2., 2., 2., 2., 2., 2., 2.]), 'error': 7.9999999999999964}\n"
     ]
    }
   ],
   "source": [
    "def CBN(X,Y):\n",
    "    #number of classes\n",
    "    nb_class = np.unique(Y).size\n",
    "    # data size\n",
    "    data_size = len(X)\n",
    "    # number of features\n",
    "    nb_features = X.shape[1]\n",
    "    #print(nb_features)\n",
    "    #print(Counter(Y).values())\n",
    "    #print(proba_class)\n",
    "    #inisialize new targets with zeros\n",
    "    new_target = np.zeros(data_size)\n",
    "    for index in range(data_size):\n",
    "        #select variable\n",
    "        var = X[index]\n",
    "        #delete variable from training data\n",
    "        train = np.delete(X, index, 0)\n",
    "        #delete variable class from training targets\n",
    "        train_target = np.delete(Y, index, 0)\n",
    "        #check if element was deleting\n",
    "        if data_size-1 != len(train):exit()\n",
    "        #calculate the probability for eache classe\n",
    "        proba_class = [e / float(len(train)) for e in Counter(train_target).values()]\n",
    "        proba_class = np.array(proba_class).reshape(-1,1) \n",
    "        # Groups data by class and calculates their centers of gravity\n",
    "        data_pclass = {}\n",
    "        mean_pclass = {}\n",
    "        for j in range(nb_class):\n",
    "            #get data for eache class\n",
    "            data_pclass[j] = [e for k, e in enumerate(train) if train_target[k] == j]\n",
    "            #calculate the mean of variables for eache classe\n",
    "            mean_pclass[j] = np.mean(a=data_pclass[j], axis=0)\n",
    "        matrix = np.array([mean_pclass[i] for i in mean_pclass])\n",
    "        # Calculate distances\n",
    "        # dist represents the distance between the X-data and the center of gravity for each class\n",
    "        # dist_total is the sum of the distances by class              \n",
    "        dist = euclidean_distances(var.reshape(1,-1),matrix)\n",
    "        dist_total = np.sum(dist)\n",
    "        # Calculates the probability PROD(P(xi/wk)P(wk))\n",
    "        # xi/wk = une donne x avec la valeur xi pour la variable i de la classe wk\n",
    "        res = 1 - dist / dist_total #np.divide(1 - dist, dist_total)\n",
    "        pred = np.prod( res * proba_class , axis = 0)\n",
    "        new_target[index] = pred.argmax()\n",
    "#         print(matrix)\n",
    "#         print(var)\n",
    "#         print(dist)\n",
    "#         print(dist_total)\n",
    "#         print(res)\n",
    "#         print(proba_class)\n",
    "#         print(res * proba_class)\n",
    "#         print(pred)\n",
    "#         print(pred.argmax())\n",
    "    return {'target': new_target, 'error': error(new_target, Y)}\n",
    "    \n",
    "print(CBN(features,targets))"
   ]
  },
  {
   "cell_type": "markdown",
   "metadata": {},
   "source": [
    "## Test du fonction du Classifieur Bayesien Naïf inclut dans sklearn"
   ]
  },
  {
   "cell_type": "code",
   "execution_count": 94,
   "metadata": {},
   "outputs": [
    {
     "name": "stdout",
     "output_type": "stream",
     "text": [
      "{'target': array([0., 0., 0., 0., 0., 0., 0., 0., 0., 0., 0., 0., 0., 0., 0., 0., 0.,\n",
      "       0., 0., 0., 0., 0., 0., 0., 0., 0., 0., 0., 0., 0., 0., 0., 0., 0.,\n",
      "       0., 0., 0., 0., 0., 0., 0., 0., 0., 0., 0., 0., 0., 0., 0., 0., 1.,\n",
      "       1., 2., 1., 1., 1., 1., 1., 1., 1., 1., 1., 1., 1., 1., 1., 1., 1.,\n",
      "       1., 1., 2., 1., 1., 1., 1., 1., 1., 2., 1., 1., 1., 1., 1., 1., 1.,\n",
      "       1., 1., 1., 1., 1., 1., 1., 1., 1., 1., 1., 1., 1., 1., 1., 2., 2.,\n",
      "       2., 2., 2., 2., 1., 2., 2., 2., 2., 2., 2., 2., 2., 2., 2., 2., 2.,\n",
      "       1., 2., 2., 2., 2., 2., 2., 2., 2., 2., 2., 2., 2., 2., 1., 1., 2.,\n",
      "       2., 2., 2., 2., 2., 2., 2., 2., 2., 2., 2., 2., 2., 2.]), 'error': 4.666666666666663}\n"
     ]
    }
   ],
   "source": [
    "def BNS(features,targets):\n",
    "    data_size = len(features)\n",
    "    #inisialize new targets with zeros\n",
    "    new_target = np.zeros(data_size)\n",
    "    for index in range(data_size):\n",
    "        #select variable\n",
    "        var = features[index]\n",
    "        #delete variable from training data\n",
    "        train = np.delete(features, index, 0)\n",
    "        #delete variable classe name from training targets\n",
    "        train_target = np.delete(targets, index, 0)\n",
    "        model = GaussianNB()\n",
    "        model.fit(train, train_target)\n",
    "        new_target[index] = model.predict(var.reshape(1,-1))\n",
    "    return {'target': new_target, 'error': error(new_target,targets)}  \n",
    "print(BNS(features,targets))"
   ]
  },
  {
   "cell_type": "code",
   "execution_count": 88,
   "metadata": {},
   "outputs": [
    {
     "data": {
      "text/plain": [
       "3.98049996859691"
      ]
     },
     "execution_count": 88,
     "metadata": {},
     "output_type": "execute_result"
    }
   ],
   "source": [
    "import math\n",
    "x = [5.006 ,3.428 ,1.462 ,0.246]\n",
    "y = [7. ,3.2 ,4.7 ,1.4]\n",
    "math.sqrt(sum([(a - b) ** 2 for a, b in zip(x, y)]))"
   ]
  },
  {
   "cell_type": "code",
   "execution_count": null,
   "metadata": {},
   "outputs": [],
   "source": []
  }
 ],
 "metadata": {
  "kernelspec": {
   "display_name": "Python 3",
   "language": "python",
   "name": "python3"
  },
  "language_info": {
   "codemirror_mode": {
    "name": "ipython",
    "version": 3
   },
   "file_extension": ".py",
   "mimetype": "text/x-python",
   "name": "python",
   "nbconvert_exporter": "python",
   "pygments_lexer": "ipython3",
   "version": "3.7.3"
  }
 },
 "nbformat": 4,
 "nbformat_minor": 2
}
